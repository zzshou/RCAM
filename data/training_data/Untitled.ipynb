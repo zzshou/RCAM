{
 "cells": [
  {
   "cell_type": "code",
   "execution_count": 30,
   "metadata": {},
   "outputs": [],
   "source": [
    "import json\n",
    "data = []\n",
    "with open(\"Task_1_train.jsonl\", 'r',encoding=\"utf-8\") as f:\n",
    "    for line in f.readlines():\n",
    "        data.append(json.loads(line))\n",
    "    "
   ]
  },
  {
   "cell_type": "code",
   "execution_count": 36,
   "metadata": {},
   "outputs": [
    {
     "data": {
      "text/plain": [
       "{'article': 'Jeanette Parkinson was overpaid when she left Morecambe Bay Hospitals Trust in 2012, an internal review found. Ms Parkinson and other midwives were accused of colluding over evidence given to an inquiry into baby deaths. Now former HR manager Roger Wilson, who signed off the deal, is being probed by the Care Quality Commission. A spokeswoman for the trust said he was being investigated under the fit and proper person test. This regulation, introduced in 2014, means that all people with director-level responsibility for the quality and safety of care, can be deemed unfit if they have been involved in \"serious misconduct or mismanagement\". Ms Parkinson, a maternity risk manager, was one of the midwives caring for newborn Joshua Titcombe, who died at Barrow\\'s Furness General hospital in Cumbria in November 2008. He was one of 11 babies and one mother to die after being treated at the trust\\'s hospitals over a nine-year period. A later inquiry led by Dr Bill Kirkup found that a \"lethal mix\" of failures at the trust led to their \"unnecessary\" deaths between 2004 and 2013. Last month it emerged that in 2012, Mr Wilson signed an exit deal for Ms Parkinson which allowed her to leave without an investigation into her performance. At the time Mr Wilson, who now works at Warrington and Halton Hospitals Foundation Trust, told the Health Service Journal: \"I would like to record that I strongly refute any allegation of impropriety on my part while employed at UHMB or at any other role that I have held in either public or private sectors.\"',\n",
       " 'question': 'An NHS boss is being investigated over an \" irregular \" redundancy deal for a midwife involved in baby death @placeholder .',\n",
       " 'option_0': 'threats',\n",
       " 'option_1': 'insurance',\n",
       " 'option_2': 'fraud',\n",
       " 'option_3': 'scandals',\n",
       " 'option_4': 'procedures',\n",
       " 'label': 3}"
      ]
     },
     "execution_count": 36,
     "metadata": {},
     "output_type": "execute_result"
    }
   ],
   "source": [
    "data[500]"
   ]
  },
  {
   "cell_type": "code",
   "execution_count": 18,
   "metadata": {},
   "outputs": [
    {
     "data": {
      "text/plain": [
       "3227"
      ]
     },
     "execution_count": 18,
     "metadata": {},
     "output_type": "execute_result"
    }
   ],
   "source": [
    "len(data)"
   ]
  },
  {
   "cell_type": "code",
   "execution_count": 27,
   "metadata": {},
   "outputs": [],
   "source": [
    "minnum = 1000000\n",
    "maxnum = 0\n",
    "sum = 0\n",
    "for line in data:\n",
    "    num = len(line['article'].split(' '))\n",
    "    sum+=num\n",
    "    if num <minnum:\n",
    "        minnum = num\n",
    "    if num > maxnum:\n",
    "        maxnum = num"
   ]
  },
  {
   "cell_type": "code",
   "execution_count": 25,
   "metadata": {},
   "outputs": [
    {
     "data": {
      "text/plain": [
       "31"
      ]
     },
     "execution_count": 25,
     "metadata": {},
     "output_type": "execute_result"
    }
   ],
   "source": [
    "minnum"
   ]
  },
  {
   "cell_type": "code",
   "execution_count": 26,
   "metadata": {},
   "outputs": [
    {
     "data": {
      "text/plain": [
       "1754"
      ]
     },
     "execution_count": 26,
     "metadata": {},
     "output_type": "execute_result"
    }
   ],
   "source": [
    "maxnum"
   ]
  },
  {
   "cell_type": "code",
   "execution_count": 29,
   "metadata": {},
   "outputs": [
    {
     "data": {
      "text/plain": [
       "262.630306786489"
      ]
     },
     "execution_count": 29,
     "metadata": {},
     "output_type": "execute_result"
    }
   ],
   "source": [
    "sum/len(data)"
   ]
  },
  {
   "cell_type": "code",
   "execution_count": 25,
   "metadata": {},
   "outputs": [],
   "source": [
    "import json\n",
    "data = []\n",
    "with open(\"Task_2_train.jsonl\", 'r',encoding=\"utf-8\") as f:\n",
    "    for line in f.readlines():\n",
    "        data.append(json.loads(line))\n",
    "    "
   ]
  },
  {
   "cell_type": "code",
   "execution_count": 37,
   "metadata": {},
   "outputs": [],
   "source": [
    "minnum = 1000000\n",
    "maxnum = 0\n",
    "sum = 0\n",
    "for line in data:\n",
    "    num = len(line['article'].split(' '))\n",
    "    sum+=num\n",
    "    if num <minnum:\n",
    "        minnum = num\n",
    "    if num > maxnum:\n",
    "        maxnum = num"
   ]
  },
  {
   "cell_type": "code",
   "execution_count": 41,
   "metadata": {},
   "outputs": [
    {
     "data": {
      "text/plain": [
       "{'article': 'Initial plans have already identified at least £12m of cuts across both forces. Decisions about which functions will be merged or handed to external organisations will be made over the next 12 months, a statement said. No announcement has been made about how many jobs could be lost. A Dorset Police spokesman said both forces would remain as separate organisations with their own commissioners and chief constables but more policing would be delivered jointly by the two forces, resulting in shared leadership for some functions. In a statement, Devon and Cornwall Police said: \"Working together more closely and sharing many services is a significant move that will allow the forces to continue to provide efficient and effective policing.\" Most changes will be to internal structures so \"will not be noticeable to local people\", the statement said. Devon & Cornwall Police Chief Constable Shaun Sawyer said: \"We have lost 450 police officers from Devon and Cornwall with up to 500 police staff as well. \"If we don\\'t make these kind of savings and work this way it\\'ll be another 800 people.\" Nigel Rabbitts, chairman of the Devon & Cornwall Police Federation, said: \"We welcome anything which is going to help with the budget but it is a consequence of the budgetary disaster which both forces are in. \"Will this actually put resources thinner over the three counties and islands rather than making us more efficient? \"If it does make the savings, we will welcome this but our concern is it will lead to further job reductions.\" Dorset Police and Crime Commissioner (PCC) Martyn Underhill said: \"We are facing unprecedented times in policing. We need to deliver more for less and this alliance will help us achieve that.\"',\n",
       " 'question': 'Dorset Police is to share some services with Devon & Cornwall \\'s force following an agreement to form a cost-cutting \" @placeholder alliance \" .',\n",
       " 'option_0': 'ongoing',\n",
       " 'option_1': 'immediate',\n",
       " 'option_2': 'regional',\n",
       " 'option_3': 'serious',\n",
       " 'option_4': 'strategic',\n",
       " 'label': 4}"
      ]
     },
     "execution_count": 41,
     "metadata": {},
     "output_type": "execute_result"
    }
   ],
   "source": [
    "data[65]"
   ]
  },
  {
   "cell_type": "code",
   "execution_count": 5,
   "metadata": {},
   "outputs": [
    {
     "data": {
      "text/plain": [
       "31"
      ]
     },
     "execution_count": 5,
     "metadata": {},
     "output_type": "execute_result"
    }
   ],
   "source": [
    "minnum"
   ]
  },
  {
   "cell_type": "code",
   "execution_count": 33,
   "metadata": {},
   "outputs": [
    {
     "data": {
      "text/plain": [
       "1701"
      ]
     },
     "execution_count": 33,
     "metadata": {},
     "output_type": "execute_result"
    }
   ],
   "source": [
    "maxnum"
   ]
  },
  {
   "cell_type": "code",
   "execution_count": 34,
   "metadata": {},
   "outputs": [
    {
     "data": {
      "text/plain": [
       "418.1796262808921"
      ]
     },
     "execution_count": 34,
     "metadata": {},
     "output_type": "execute_result"
    }
   ],
   "source": [
    "sum/len(data)"
   ]
  }
 ],
 "metadata": {
  "kernelspec": {
   "display_name": "Python 3",
   "language": "python",
   "name": "python3"
  },
  "language_info": {
   "codemirror_mode": {
    "name": "ipython",
    "version": 3
   },
   "file_extension": ".py",
   "mimetype": "text/x-python",
   "name": "python",
   "nbconvert_exporter": "python",
   "pygments_lexer": "ipython3",
   "version": "3.7.3"
  }
 },
 "nbformat": 4,
 "nbformat_minor": 2
}
